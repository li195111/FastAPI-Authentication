{
 "cells": [
  {
   "cell_type": "code",
   "execution_count": null,
   "metadata": {},
   "outputs": [],
   "source": [
    "import json\n",
    "import uuid\n",
    "from datetime import datetime, timedelta\n",
    "import time\n",
    "from jwcrypto import jwt, jwa, jwk, jws, jwe\n",
    "import redis\n",
    "rdb = redis.Redis(host='localhost',port=6379,db=0)"
   ]
  },
  {
   "cell_type": "code",
   "execution_count": null,
   "metadata": {},
   "outputs": [],
   "source": [
    "kid = uuid.uuid4().hex\n",
    "private_key = jwk.JWK.generate(kty='RSA',size=2048, kid=kid)\n",
    "public_key = private_key.export_public()\n",
    "expiry_time = (datetime.utcnow() + timedelta(seconds=3)).timestamp()\n",
    "rdb.hset('KEY_PAIR', kid, json.dumps({'key':private_key,'exp':expiry_time}))\n"
   ]
  },
  {
   "cell_type": "code",
   "execution_count": null,
   "metadata": {},
   "outputs": [],
   "source": []
  }
 ],
 "metadata": {
  "interpreter": {
   "hash": "c703f46db5127b45d1458df36221b3086c7af458dc33fdca92d7ade55e406e97"
  },
  "kernelspec": {
   "display_name": "Python 3.9.7 ('restfulapi')",
   "language": "python",
   "name": "python3"
  },
  "language_info": {
   "codemirror_mode": {
    "name": "ipython",
    "version": 3
   },
   "file_extension": ".py",
   "mimetype": "text/x-python",
   "name": "python",
   "nbconvert_exporter": "python",
   "pygments_lexer": "ipython3",
   "version": "3.9.7"
  },
  "orig_nbformat": 4
 },
 "nbformat": 4,
 "nbformat_minor": 2
}
