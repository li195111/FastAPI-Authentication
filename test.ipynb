{
 "cells": [
  {
   "cell_type": "code",
   "execution_count": 15,
   "metadata": {},
   "outputs": [],
   "source": [
    "import json\n",
    "from jwcrypto import jwt, jwa, jwk, jws, jwe"
   ]
  },
  {
   "cell_type": "code",
   "execution_count": 9,
   "metadata": {},
   "outputs": [
    {
     "name": "stdout",
     "output_type": "stream",
     "text": [
      "{\"kid\":12345,\"thumbprint\":\"UxYWjz7EN3xb8Epp7Q6LkvvlUBeycG1j6jxKGN29tnY\"}\n",
      "UxYWjz7EN3xb8Epp7Q6LkvvlUBeycG1j6jxKGN29tnY 43\n"
     ]
    }
   ],
   "source": [
    "key = jwk.JWK.generate(kty='oct', size=256, kid=12345)\n",
    "print (key)\n",
    "print (key.thumbprint(), len(key.thumbprint()))\n"
   ]
  },
  {
   "cell_type": "code",
   "execution_count": 35,
   "metadata": {},
   "outputs": [
    {
     "data": {
      "text/plain": [
       "({\"kid\":\"1234\",\"thumbprint\":\"05cPlQxFuhJSV-urz1NrLAmB8hCdTaNnLY7xq0oV6u0\"},\n",
       " {\"kid\":\"1234\",\"thumbprint\":\"05cPlQxFuhJSV-urz1NrLAmB8hCdTaNnLY7xq0oV6u0\"},\n",
       " {'alg': 'RSA-OAEP-256',\n",
       "  'enc': 'A256CBC-HS512',\n",
       "  'typ': 'JWE',\n",
       "  'kid': '05cPlQxFuhJSV-urz1NrLAmB8hCdTaNnLY7xq0oV6u0'})"
      ]
     },
     "execution_count": 35,
     "metadata": {},
     "output_type": "execute_result"
    }
   ],
   "source": [
    "public_key = jwk.JWK()\n",
    "private_key = jwk.JWK.generate(kty='RSA',size=2048,kid=\"1234\")\n",
    "\n",
    "public_key.import_key(**private_key.export_public(True))\n",
    "payload = \"Hello World!\"\n",
    "protected_header = {\n",
    "        \"alg\": \"RSA-OAEP-256\",\n",
    "        \"enc\": \"A256CBC-HS512\",\n",
    "        \"typ\": \"JWE\",\n",
    "        \"kid\": public_key.thumbprint(),\n",
    "    }\n",
    "jwetoken = jwe.JWE(payload.encode('utf-8'),\n",
    "                   recipient=public_key,\n",
    "                   protected=protected_header)\n",
    "enc = jwetoken.serialize()\n",
    "private_key, public_key, protected_header"
   ]
  },
  {
   "cell_type": "code",
   "execution_count": 29,
   "metadata": {},
   "outputs": [
    {
     "data": {
      "text/plain": [
       "'{\"ciphertext\":\"5IqrF4AhUe_Zi7oypilz7g\",\"encrypted_key\":\"OGkgeBrFCDMIPdClTgIGPYvVnUGH1rQQu_sIKXNW_1QJ-UFCFzhKeXx4mCi8FMyBHpafPCNYqel3hAxadoUqEaGduQsbRGzI6xPmJbwBBNjgQ-HTq56uvw4ICBHhNOfZqlfVXRZBhsqTXd3PA2GkM8uMWemNUBrkZtSl5Yzrphf36B_5lRH2amTCWtnP2QypyJZd5jlqLUt2W-PfavGYBIGypk3yyXmTHxtz5j73bg1-sPYTCDOZ7jZHUKWwITvW4K-1bY1vVP5SppQRRSzqhpALrz1ONJhBKNcBODkkYWVIP3TX9T_ny232OHTUn0Bt4vV2SGPGkWhdZGNHHOVpzw\",\"iv\":\"h9k_Vna9FRHXzl8WqtD3nw\",\"protected\":\"eyJhbGciOiJSU0EtT0FFUC0yNTYiLCJlbmMiOiJBMjU2Q0JDLUhTNTEyIiwia2lkIjoiR283TDlDbzg2b3NDZUtCTE0wZ0xLLWtfSk0zNHhEbDB4cGVmVUlud3JkOCIsInR5cCI6IkpXRSJ9\",\"tag\":\"_BAfmb-lCNPu1YHucd_A4QcdZDqoMOP2yke1-_gHWmA\"}'"
      ]
     },
     "execution_count": 29,
     "metadata": {},
     "output_type": "execute_result"
    }
   ],
   "source": [
    "enc"
   ]
  },
  {
   "cell_type": "code",
   "execution_count": 34,
   "metadata": {},
   "outputs": [
    {
     "data": {
      "text/plain": [
       "'Hello World!'"
      ]
     },
     "execution_count": 34,
     "metadata": {},
     "output_type": "execute_result"
    }
   ],
   "source": [
    "jwetoken = jwe.JWE()\n",
    "jwetoken.deserialize(enc, key=private_key)\n",
    "payload = jwetoken.payload.decode('utf-8')\n",
    "payload"
   ]
  },
  {
   "cell_type": "code",
   "execution_count": null,
   "metadata": {},
   "outputs": [],
   "source": []
  }
 ],
 "metadata": {
  "interpreter": {
   "hash": "c703f46db5127b45d1458df36221b3086c7af458dc33fdca92d7ade55e406e97"
  },
  "kernelspec": {
   "display_name": "Python 3.9.7 ('restfulapi')",
   "language": "python",
   "name": "python3"
  },
  "language_info": {
   "codemirror_mode": {
    "name": "ipython",
    "version": 3
   },
   "file_extension": ".py",
   "mimetype": "text/x-python",
   "name": "python",
   "nbconvert_exporter": "python",
   "pygments_lexer": "ipython3",
   "version": "3.9.7"
  },
  "orig_nbformat": 4
 },
 "nbformat": 4,
 "nbformat_minor": 2
}
